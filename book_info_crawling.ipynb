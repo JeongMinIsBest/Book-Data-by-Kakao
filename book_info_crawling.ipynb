{
 "cells": [
  {
   "cell_type": "code",
   "execution_count": null,
   "id": "d520de60",
   "metadata": {},
   "outputs": [],
   "source": [
    "import requests\n",
    "import json\n",
    "import time\n",
    "\n",
    "# 카카오 REST API 키 입력\n",
    "KAKAO_API_KEY = '여기에 본인의 키 입력'\n",
    "HEADERS = {\"Authorization\": f\"KakaoAK {KAKAO_API_KEY}\"}\n",
    "API_URL = \"https://dapi.kakao.com/v3/search/book\"\n"
   ]
  },
  {
   "cell_type": "code",
   "execution_count": 4,
   "id": "95518ca1",
   "metadata": {},
   "outputs": [],
   "source": [
    "book_titles = [\n",
    "    \"제물포 사람들\", \"부두\", \"동구로 가는 길\", \"하성기행\", \"파주로 가는 길\",\n",
    "    \"괴산, 그 여름\", \"보령 바닷가의 여름\", \"김제 평야\", \"벌교 소설\",\n",
    "    \"담양 죽녹원\", \"진주 촛불\", \"거제도 파도\", \"폭설\"\n",
    "\n",
    "]"
   ]
  },
  {
   "cell_type": "code",
   "execution_count": 5,
   "id": "df56f8b9",
   "metadata": {},
   "outputs": [],
   "source": [
    "book_metadata = {}\n",
    "\n",
    "for title in book_titles:\n",
    "    params = {\"query\": title, \"target\": \"title\"}\n",
    "    response = requests.get(API_URL, headers=HEADERS, params=params)\n",
    "    result = response.json()\n",
    "\n",
    "    if result.get(\"documents\"):\n",
    "        doc = result[\"documents\"][0]\n",
    "        book_metadata[title] = {\n",
    "            \"title\": doc[\"title\"],\n",
    "            \"authors\": doc[\"authors\"],\n",
    "            \"publisher\": doc[\"publisher\"],\n",
    "            \"isbn\": doc[\"isbn\"],\n",
    "            \"contents\": doc[\"contents\"][:300],  # 간단 요약\n",
    "            \"thumbnail\": doc[\"thumbnail\"]\n",
    "        }\n",
    "    else:\n",
    "        book_metadata[title] = {\"error\": \"No result found\"}\n",
    "\n",
    "    time.sleep(0.3)  # 너무 빨리 요청하지 않도록\n",
    "\n",
    "# 결과 저장\n",
    "with open(\"new.json\", \"w\", encoding=\"utf-8\") as f:\n",
    "    json.dump(book_metadata, f, ensure_ascii=False, indent=2)"
   ]
  },
  {
   "cell_type": "code",
   "execution_count": null,
   "id": "daf8ae7a",
   "metadata": {},
   "outputs": [],
   "source": []
  }
 ],
 "metadata": {
  "kernelspec": {
   "display_name": "Python 3",
   "language": "python",
   "name": "python3"
  },
  "language_info": {
   "codemirror_mode": {
    "name": "ipython",
    "version": 3
   },
   "file_extension": ".py",
   "mimetype": "text/x-python",
   "name": "python",
   "nbconvert_exporter": "python",
   "pygments_lexer": "ipython3",
   "version": "3.10.11"
  }
 },
 "nbformat": 4,
 "nbformat_minor": 5
}
